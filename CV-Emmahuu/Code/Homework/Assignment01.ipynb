{
 "cells": [
  {
   "cell_type": "markdown",
   "metadata": {},
   "source": [
    "<img src=\"https://img.kaikeba.com/web/hcTech/img_logo.png\" alt=\"图片替换文本\" width=\"500\" height=\"150\" align=\"bottom\" />"
   ]
  },
  {
   "cell_type": "markdown",
   "metadata": {},
   "source": [
    "##  Finish the search problem"
   ]
  },
  {
   "cell_type": "markdown",
   "metadata": {},
   "source": [
    "Please using the search policy to implement an agent. \n",
    "This agent receives two input, one is @param start station and the other is @param destination. \n",
    "Your agent should give the optimal route based on Beijing Subway system. "
   ]
  },
  {
   "cell_type": "markdown",
   "metadata": {},
   "source": [
    "> Deadline: 2020-April-20\n",
    "\n",
    "> Submit: Submit the source code and result to github. "
   ]
  },
  {
   "cell_type": "markdown",
   "metadata": {},
   "source": []
  },
  {
   "cell_type": "markdown",
   "metadata": {},
   "source": [
    "<img src=\"http://jtapi.bendibao.com/ditie/inc/bj/xianluda.gif\" alt=\"图片替换文本\" width=\"900\" height=\"900\" align=\"bottom\" />"
   ]
  },
  {
   "cell_type": "markdown",
   "metadata": {},
   "source": [
    "#### Dataflow: "
   ]
  },
  {
   "cell_type": "markdown",
   "metadata": {},
   "source": [
    "##### 1.\tGet data from web page.\n",
    "\n",
    "> a.\tGet web page source from: https://baike.baidu.com/item/%E5%8C%97%E4%BA%AC%E5%9C%B0%E9%93%81/408485\n",
    "\n",
    "> b.\tYou may need @package **requests** https://2.python-requests.org/en/master/ page to get the response via url\n",
    "\n",
    "> c.\tYou may need save the page source to file system.\n",
    "\n",
    "> d.\tThe target of this step is to get station information of all the subway lines;\n",
    "\n",
    "> e.\tYou may need install @package beautiful soup https://www.crummy.com/software/BeautifulSoup/bs4/doc/  to get the url information, or just use > Regular Expression to get the url.  Our recommendation is that using the Regular Expression and BeautiflSoup both. \n",
    "\n",
    "> f.\tYou may need BFS to get all the related page url from one url. \n",
    "Question: Why do we use BFS to traverse web page (or someone said, build a web spider)?  Can DFS do this job? which is better? "
   ]
  },
  {
   "cell_type": "markdown",
   "metadata": {},
   "source": [
    "##### 2.\tPreprocessing data from page source.\n",
    "\n",
    "> a.\tBased on the page source gotten from url. You may need some more preprocessing of the page. \n",
    "\n",
    "> b.\tthe Regular Expression you may need to process the text information.\n",
    "\n",
    "> c.\tYou may need @package networkx, @package matplotlib to visualize data. \n",
    "\n",
    "> d.\tYou should build a dictionary or graph which could represent the connection information of Beijing subway routes. \n",
    "\n",
    "> e.\tYou may need the defaultdict, set data structures to implement this procedure. "
   ]
  },
  {
   "cell_type": "markdown",
   "metadata": {},
   "source": [
    "##### 3. Build the search agent\n",
    "\n",
    "> Build the search agent based on the graph we build.\n",
    "\n",
    "for example, when you run: \n",
    "\n",
    "```python\n",
    ">>> search('奥体中心', '天安门') \n",
    "```\n",
    "you need get the result: \n",
    "\n",
    "奥体中心-> A -> B -> C -> ... -> 天安门"
   ]
  },
  {
   "cell_type": "markdown",
   "metadata": {},
   "source": [
    "### 该如何使用python进行数据抓取"
   ]
  },
  {
   "cell_type": "markdown",
   "metadata": {},
   "source": [
    "#### HTTP协议\n",
    "超文本传输协议（HTTP，HyperText Transfer Protocol）是互联网上应用最为广泛的一种网络协议。所有的www文件都必须遵守这个标准。  \n",
    "\n",
    "HTTP用于客户端和服务器之间的通信。协议中规定了客户端应该按照什么格式给服务器发送请求，同时也约定了服务端返回的响应结果应该是什么格式。    \n",
    "\n",
    "请求访问文本或图像等信息的一端称为客户端，而提供信息响应的一端称为服务器端。 \n",
    "\n",
    "客户端告诉服务器请求访问信息的方法：\n",
    "- Get 获得内容\n",
    "- Post 提交表单来爬取需要登录才能获得数据的网站\n",
    "- put 传输文件  \n",
    "\n",
    "更多参考：\n",
    "[HTTP请求状态](https://www.runoob.com/http/http-status-codes.html)  \n",
    "了解200 404 503\n",
    " - 200 OK      //客户端请求成功\n",
    " - 404 Not Found  //请求资源不存在，eg：输入了错误的URL\n",
    " - 503 Server Unavailable  //服务器当前不能处理客户端的请求，一段时间后可能恢复正常。"
   ]
  },
  {
   "cell_type": "markdown",
   "metadata": {},
   "source": [
    "#### Requests\n",
    "纯粹HTML格式的网页通常被称为静态网页，静态网页的数据比较容易获取。   \n",
    "在静态网页抓取中，有一个强大的Requests库能够让你轻易地发送HTTP请求。  "
   ]
  },
  {
   "cell_type": "markdown",
   "metadata": {},
   "source": [
    "#### 在终端上安装 Requests\n",
    "\n",
    "pip install requents"
   ]
  },
  {
   "cell_type": "code",
   "execution_count": null,
   "metadata": {},
   "outputs": [],
   "source": [
    "# 获取响应内容\n",
    "\n",
    "import requests\n",
    "\n",
    "# get（输入你想要抓去的网页地址）\n",
    "r = requests.get('https://www.baidu.com/')\n",
    "\n",
    "print('文本编码：（服务器使用的文本编码）', r.encoding)\n",
    "\n",
    "print('响应状态码：（200表示成功）', r.status_code)\n",
    "\n",
    "print('字符串方式的响应体：（服务器响应的内容）', r.text)"
   ]
  },
  {
   "cell_type": "markdown",
   "metadata": {},
   "source": [
    "#### 拓展知识：\n",
    "- [Unicode和UTF-8有什么区别?(盛世唐朝回答)](https://www.zhihu.com/question/23374078)"
   ]
  },
  {
   "cell_type": "markdown",
   "metadata": {},
   "source": [
    "###  正则表达式\n",
    "正则表达式的思想是你在人群中寻找你的男朋友/女朋友，他/她在你心里非常有特点。   \n",
    "同样，从一堆文本中找到需要的内容，我们可以采用正则表达式。\n",
    "\n",
    "正经点说，是以一定的模式来进行字符串的匹配。   \n",
    "掌握正则表达式需要非常多的时间，我们可以先入门，在以后的工作中遇到，可更加深入研究。\n",
    "\n",
    "使用正则表达式有如下步骤：\n",
    "\n",
    "- 寻找【待找到的信息】特点\n",
    "- 使用符号找到特点\n",
    "- 获得信息"
   ]
  },
  {
   "cell_type": "code",
   "execution_count": null,
   "metadata": {},
   "outputs": [],
   "source": [
    "# 请先运行一下、看一下有什么参数？\n",
    "# 请思考，找到会返回什么？没找到会返回什么？\n",
    "\n",
    "import re\n",
    "help(re.match)"
   ]
  },
  {
   "cell_type": "markdown",
   "metadata": {},
   "source": [
    "#### 请先思考，再运行"
   ]
  },
  {
   "cell_type": "code",
   "execution_count": null,
   "metadata": {},
   "outputs": [],
   "source": [
    "# 'foo'能找到了吗？\n",
    "# answer：\n",
    "# 'fee'能找到了吗？\n",
    "# answer：\n",
    "\n",
    "import re\n",
    "m = re.match('foo', 'foo string')\n",
    "print(m)\n",
    "print(m.group())\n",
    "\n",
    "print('----------------------')\n",
    "\n",
    "m = re.match('fee', 'foo string')\n",
    "print(m)"
   ]
  },
  {
   "cell_type": "markdown",
   "metadata": {},
   "source": [
    "##### match  方法只能从头开始匹配    \n",
    "##### group()  可以获得匹配之后的结果"
   ]
  },
  {
   "cell_type": "code",
   "execution_count": null,
   "metadata": {},
   "outputs": [],
   "source": [
    "# 请先运行一下、看一下有什么参数？\n",
    "\n",
    "help(re.search)"
   ]
  },
  {
   "cell_type": "code",
   "execution_count": null,
   "metadata": {},
   "outputs": [],
   "source": [
    "# 请运行之后、思考 match 与 search 的区别?\n",
    "\n",
    "m = re.search('foo', 'seafood')\n",
    "print(m)\n",
    "print(m.group())\n",
    "\n",
    "print('-------------------------')\n",
    "\n",
    "m = re.match('foo', 'seafood')\n",
    "print(m)"
   ]
  },
  {
   "cell_type": "markdown",
   "metadata": {},
   "source": [
    "#### `search`是搜索字符串中首次出现的位置"
   ]
  },
  {
   "cell_type": "code",
   "execution_count": null,
   "metadata": {},
   "outputs": [],
   "source": [
    "import re\n",
    "# 匹配多个字符串 |\n",
    "m = re.match('bat|bet|bit', 'bat')\n",
    "print(m.group()) if m is not None else print('None')\n",
    "\n",
    "\n",
    "# 匹配任意单个字符 .\n",
    "m = re.match('.end', 'kend')\n",
    "print(m.group()) if m is not None else print('None')\n",
    "\n",
    "m = re.match('.end', 'end')\n",
    "print(m.group()) if m is not None else print('None')\n",
    "\n",
    "\n",
    "# 字符串集合 []\n",
    "m = re.match('[cr][23][dp][o2]', 'c3p2')\n",
    "print(m.group()) if m is not None else print('None')\n",
    "\n",
    "\n",
    "# []   与 |是不同的\n",
    "m = re.match('c3po|r2d2', 'c3p2')\n",
    "print(m.group()) if m is not None else print('None')"
   ]
  },
  {
   "cell_type": "markdown",
   "metadata": {},
   "source": [
    "#### 给大家提供一个字典，供大家查询～"
   ]
  },
  {
   "cell_type": "markdown",
   "metadata": {},
   "source": [
    "<table class=\"wikitable\">\n",
    "  <tbody>\n",
    "    <tr>\n",
    "      <th style=\"text-align:center;\" width=\"20%\">字符</th>\n",
    "      <th style=\"text-align:center;\" width=\"90%\">描述</th>\n",
    "    </tr>\n",
    "    <tr>\n",
    "      <th style=\"text-align:center;\">\\</th>\n",
    "      <td style=\"text-align:left;\"> 将下一个字符标记为一个特殊字符、或一个原义字符、或一个向后引用、或一个八进制转义符。例如，“<code>n</code>”匹配字符“<code>n</code>”。“<code>\\n</code>”匹配一个换行符。串行“<code>\\\\</code>”匹配“<code>\\</code>”而“<code>\\(</code>”则匹配“<code>(</code>”。</td>\n",
    "    </tr>\n",
    "    <tr>\n",
    "      <th style=\"text-align:center;\">^</th>\n",
    "      <td style=\"text-align:left;\">匹配输入字符串的开始位置。如果设置了RegExp对象的Multiline属性，^也匹配“<code>\\n</code>”或“<code>\\r</code>”之后的位置。</td>\n",
    "    </tr>\n",
    "    <tr>\n",
    "      <th style=\"text-align:center;\"> \\* </th>\n",
    "      <td style=\"text-align:left;\">匹配前面的子表达式零次或多次。例如，zo\\*能匹配“<code>z</code>”以及“<code>zoo</code>”。\\* 等价于{0,}。</td>\n",
    "    </tr>\n",
    "    <tr>\n",
    "      <th style=\"text-align:center;\">+</th>\n",
    "      <td style=\"text-align:left;\">匹配前面的子表达式一次或多次。例如，“<code>zo+</code>”能匹配“<code>zo</code>”以及“<code>zoo</code>”，但不能匹配“<code>z</code>”。+等价于{1,}。</td>\n",
    "    </tr>\n",
    "    <tr>\n",
    "      <th style=\"text-align:center;\">?</th>\n",
    "      <td style=\"text-align:left;\">匹配前面的子表达式零次或一次。例如，“<code>do(es)?</code>”可以匹配“<code>does</code>”或“<code>does</code>”中的“<code>do</code>”。?等价于{0,1}。</td>\n",
    "    </tr>\n",
    "    <tr>\n",
    "      <th style=\"text-align:center;\">{<span style=\"font-family:Times New Roman; font-style:italic;\">n</span>}</th>\n",
    "      <td style=\"text-align:left;\"><span style=\"font-family:Times New Roman; font-style:italic;\">n</span>是一个非负整数。匹配确定的<span style=\"font-family:Times New Roman; font-style:italic;\">n</span>次。例如，“<code>o{2}</code>”不能匹配“<code>Bob</code>”中的“<code>o</code>”，但是能匹配“<code>food</code>”中的两个o。</td>\n",
    "    </tr>\n",
    "    <tr>\n",
    "      <th style=\"text-align:center;\">{<span style=\"font-family:Times New Roman; font-style:italic;\">n</span>,}</th>\n",
    "      <td style=\"text-align:left;\"><span style=\"font-family:Times New Roman; font-style:italic;\">n</span>是一个非负整数。至少匹配<span style=\"font-family:Times New Roman; font-style:italic;\">n</span>次。例如，“<code>o{2,}</code>”不能匹配“<code>Bob</code>”中的“<code>o</code>”，但能匹配“<code>foooood</code>”中的所有o。“<code>o{1,}</code>”等价于“<code>o+</code>”。“<code>o{0,}</code>”则等价于“<code>o*</code>”。</td>\n",
    "    </tr>\n",
    "    <tr>\n",
    "      <th style=\"text-align:center;\">{<span style=\"font-family:Times New Roman; font-style:italic;\">n</span>,<span style=\"font-family:Times New Roman; font-style:italic;\">m</span>}</th>\n",
    "      <td style=\"text-align:left;\"><span style=\"font-family:Times New Roman; font-style:italic;\">m</span>和<span style=\"font-family:Times New Roman; font-style:italic;\">n</span>均为非负整数，其中<span style=\"font-family:Times New Roman; font-style:italic;\">n</span>&lt;=<span style=\"font-family:Times New Roman; font-style:italic;\">m</span>。最少匹配<span style=\"font-family:Times New Roman; font-style:italic;\">n</span>次且最多匹配<span style=\"font-family:Times New Roman; font-style:italic;\">m</span>次。例如，“<code>o{1,3}</code>”将匹配“<code>fooooood</code>”中的前三个o。“<code>o{0,1}</code>”等价于“<code>o?</code>”。请注意在逗号和两个数之间不能有空格。</td>\n",
    "    </tr>\n",
    "    <tr>\n",
    "      <th style=\"text-align:center;\">?</th>\n",
    "      <td style=\"text-align:left;\">当该字符紧跟在任何一个其他限制符（*,+,?，{<span style=\"font-family:Times New Roman; font-style:italic;\">n</span>}，{<span style=\"font-family:Times New Roman; font-style:italic;\">n</span>,}，{<span style=\"font-family:Times New Roman; font-style:italic;\">n</span>,<span style=\"font-family:Times New Roman; font-style:italic;\">m</span>}）后面时，匹配模式是非贪婪的。非贪婪模式尽可能少的匹配所搜索的字符串，而默认的贪婪模式则尽可能多的匹配所搜索的字符串。例如，对于字符串“<code>oooo</code>”，“<code>o+?</code>”将匹配单个“<code>o</code>”，而“<code>o+</code>”将匹配所有“<code>o</code>”。</td>\n",
    "    </tr>\n",
    "    <tr>\n",
    "      <th style=\"text-align:center;\">.</th>\n",
    "      <td style=\"text-align:left;\">匹配除“<code>\\</code><span style=\"font-family:Times New Roman; font-style:italic;\"><code>n</code></span>”之外的任何单个字符。要匹配包括“<code>\\</code><span style=\"font-family:Times New Roman; font-style:italic;\"><code>n</code></span>”在内的任何字符，请使用像“<code>(.|\\n)</code>”的模式。</td>\n",
    "    </tr>\n",
    "    <tr>\n",
    "      <th style=\"text-align:center;\">(pattern)</th>\n",
    "      <td style=\"text-align:left;\">匹配pattern并获取这一匹配。所获取的匹配可以从产生的Matches集合得到，在VBScript中使用SubMatches集合，在JScript中则使用$0…$9属性。要匹配圆括号字符，请使用“<code>\\(</code>”或“<code>\\)</code>”。</td>\n",
    "    </tr>\n",
    "    <tr>\n",
    "      <th style=\"text-align:center;\">(?:pattern)</th>\n",
    "      <td style=\"text-align:left;\">匹配pattern但不获取匹配结果，也就是说这是一个非获取匹配，不进行存储供以后使用。这在使用或字符“<code>(|)</code>”来组合一个模式的各个部分是很有用。例如“<code>industr(?:y|ies)</code>”就是一个比“<code>industry|industries</code>”更简略的表达式。</td>\n",
    "    </tr>\n",
    "    <tr>\n",
    "      <th style=\"text-align:center;\">(?=pattern)</th>\n",
    "      <td style=\"text-align:left;\">正向肯定预查，在任何匹配pattern的字符串开始处匹配查找字符串。这是一个非获取匹配，也就是说，该匹配不需要获取供以后使用。例如，“<code>Windows(?=95|98|NT|2000)</code>”能匹配“<code>Windows2000</code>”中的“<code>Windows</code>”，但不能匹配“<code>Windows3.1</code>”中的“<code>Windows</code>”。预查不消耗字符，也就是说，在一个匹配发生后，在最后一次匹配之后立即开始下一次匹配的搜索，而不是从包含预查的字符之后开始。</td>\n",
    "    </tr>\n",
    "    <tr>\n",
    "      <th style=\"text-align:center;\">(?!pattern)</th>\n",
    "      <td style=\"text-align:left;\">正向否定预查，在任何不匹配pattern的字符串开始处匹配查找字符串。这是一个非获取匹配，也就是说，该匹配不需要获取供以后使用。例如“<code>Windows(?!95|98|NT|2000)</code>”能匹配“<code>Windows3.1</code>”中的“<code>Windows</code>”，但不能匹配“<code>Windows2000</code>”中的“<code>Windows</code>”。预查不消耗字符，也就是说，在一个匹配发生后，在最后一次匹配之后立即开始下一次匹配的搜索，而不是从包含预查的字符之后开始</td>\n",
    "    </tr>\n",
    "    <tr>\n",
    "      <th style=\"text-align:center;\">(?&lt;=pattern)</th>\n",
    "      <td style=\"text-align:left;\">反向肯定预查，与正向肯定预查类拟，只是方向相反。例如，“<code>(?&lt;=95|98|NT|2000)Windows</code>”能匹配“<code>2000Windows</code>”中的“<code>Windows</code>”，但不能匹配“<code>3.1Windows</code>”中的“<code>Windows</code>”。</td>\n",
    "    </tr>\n",
    "    <tr>\n",
    "      <th style=\"text-align:center;\">(?&lt;!pattern)</th>\n",
    "      <td style=\"text-align:left;\">反向否定预查，与正向否定预查类拟，只是方向相反。例如“<code>(?&lt;!95|98|NT|2000)Windows</code>”能匹配“<code>3.1Windows</code>”中的“<code>Windows</code>”，但不能匹配“<code>2000Windows</code>”中的“<code>Windows</code>”。</td>\n",
    "    </tr>\n",
    "    <tr>\n",
    "      <th style=\"text-align:center;\">x|y</th>\n",
    "      <td style=\"text-align:left;\">匹配x或y。例如，“<code>z|food</code>”能匹配“<code>z</code>”或“<code>food</code>”。“<code>(z|f)ood</code>”则匹配“<code>zood</code>”或“<code>food</code>”。</td>\n",
    "    </tr>\n",
    "    <tr>\n",
    "      <th style=\"text-align:center;\">[xyz]</th>\n",
    "      <td style=\"text-align:left;\">字符集合。匹配所包含的任意一个字符。例如，“<code>[abc]</code>”可以匹配“<code>plain</code>”中的“<code>a</code>”。</td>\n",
    "    </tr>\n",
    "    <tr>\n",
    "      <th style=\"text-align:center;\">[^xyz]</th>\n",
    "      <td style=\"text-align:left;\">负值字符集合。匹配未包含的任意字符。例如，“<code>[^abc]</code>”可以匹配“<code>plain</code>”中的“<code>p</code>”。</td>\n",
    "    </tr>\n",
    "    <tr>\n",
    "      <th style=\"text-align:center;\">[a-z]</th>\n",
    "      <td style=\"text-align:left;\">字符范围。匹配指定范围内的任意字符。例如，“<code>[a-z]</code>”可以匹配“<code>a</code>”到“<code>z</code>”范围内的任意小写字母字符。</td>\n",
    "    </tr>\n",
    "    <tr>\n",
    "      <th style=\"text-align:center;\">[^a-z]</th>\n",
    "      <td style=\"text-align:left;\">负值字符范围。匹配任何不在指定范围内的任意字符。例如，“<code>[^a-z]</code>”可以匹配任何不在“<code>a</code>”到“<code>z</code>”范围内的任意字符。</td>\n",
    "    </tr>\n",
    "    <tr>\n",
    "      <th style=\"text-align:center;\">\\b</th>\n",
    "      <td style=\"text-align:left;\">匹配一个单词边界，也就是指单词和空格间的位置。例如，“<code>er\\b</code>”可以匹配“<code>never</code>”中的“<code>er</code>”，但不能匹配“<code>verb</code>”中的“<code>er</code>”。</td>\n",
    "    </tr>\n",
    "    <tr>\n",
    "      <th style=\"text-align:center;\">\\B</th>\n",
    "      <td style=\"text-align:left;\">匹配非单词边界。“<code>er\\B</code>”能匹配“<code>verb</code>”中的“<code>er</code>”，但不能匹配“<code>never</code>”中的“<code>er</code>”。</td>\n",
    "    </tr>\n",
    "    <tr>\n",
    "      <th style=\"text-align:center;\">\\cx</th>\n",
    "      <td style=\"text-align:left;\">匹配由x指明的控制字符。例如，\\cM匹配一个Control-M或回车符。x的值必须为A-Z或a-z之一。否则，将c视为一个原义的“<code>c</code>”字符。</td>\n",
    "    </tr>\n",
    "    <tr>\n",
    "      <th style=\"text-align:center;\">\\d</th>\n",
    "      <td style=\"text-align:left;\">匹配一个数字字符。等价于[0-9]。</td>\n",
    "    </tr>\n",
    "    <tr>\n",
    "      <th style=\"text-align:center;\">\\D</th>\n",
    "      <td style=\"text-align:left;\">匹配一个非数字字符。等价于[^0-9]。</td>\n",
    "    </tr>\n",
    "    <tr>\n",
    "      <th style=\"text-align:center;\">\\f</th>\n",
    "      <td style=\"text-align:left;\">匹配一个换页符。等价于\\x0c和\\cL。</td>\n",
    "    </tr>\n",
    "    <tr>\n",
    "      <th style=\"text-align:center;\">\\n</th>\n",
    "      <td style=\"text-align:left;\">匹配一个换行符。等价于\\x0a和\\cJ。</td>\n",
    "    </tr>\n",
    "    <tr>\n",
    "      <th style=\"text-align:center;\">\\r</th>\n",
    "      <td style=\"text-align:left;\">匹配一个回车符。等价于\\x0d和\\cM。</td>\n",
    "    </tr>\n",
    "    <tr>\n",
    "      <th style=\"text-align:center;\">\\s</th>\n",
    "      <td style=\"text-align:left;\">匹配任何空白字符，包括空格、制表符、换页符等等。等价于[ \\f\\n\\r\\t\\v]。</td>\n",
    "    </tr>\n",
    "    <tr>\n",
    "      <th style=\"text-align:center;\">\\S</th>\n",
    "      <td style=\"text-align:left;\">匹配任何非空白字符。等价于[^ \\f\\n\\r\\t\\v]。</td>\n",
    "    </tr>\n",
    "    <tr>\n",
    "      <th style=\"text-align:center;\">\\t</th>\n",
    "      <td style=\"text-align:left;\">匹配一个制表符。等价于\\x09和\\cI。</td>\n",
    "    </tr>\n",
    "    <tr>\n",
    "      <th style=\"text-align:center;\">\\v</th>\n",
    "      <td style=\"text-align:left;\">匹配一个垂直制表符。等价于\\x0b和\\cK。</td>\n",
    "    </tr>\n",
    "    <tr>\n",
    "      <th style=\"text-align:center;\">\\w</th>\n",
    "      <td style=\"text-align:left;\">匹配包括下划线的任何单词字符。等价于“<code>[A-Za-z0-9_]</code>”。</td>\n",
    "    </tr>\n",
    "    <tr>\n",
    "      <th style=\"text-align:center;\">\\W</th>\n",
    "      <td style=\"text-align:left;\">匹配任何非单词字符。等价于“<code>[^A-Za-z0-9_]</code>”。</td>\n",
    "    </tr>\n",
    "    <tr>\n",
    "      <th style=\"text-align:center;\">\\x<span style=\"font-family:Times New Roman; font-style:italic;\">n</span></th>\n",
    "      <td style=\"text-align:left;\">匹配<span style=\"font-family:Times New Roman; font-style:italic;\">n</span>，其中<span style=\"font-family:Times New Roman; font-style:italic;\">n</span>为十六进制转义值。十六进制转义值必须为确定的两个数字长。例如，“<code>\\x41</code>”匹配“<code>A</code>”。“<code>\\x041</code>”则等价于“<code>\\x04&amp;1</code>”。正则表达式中可以使用ASCII编码。.</td>\n",
    "    </tr>\n",
    "    <tr>\n",
    "      <th style=\"text-align:center;\">\\<span style=\"font-family:Times New Roman; font-style:italic;\">num</span></th>\n",
    "      <td style=\"text-align:left;\">匹配<span style=\"font-family:Times New Roman; font-style:italic;\">num</span>，其中<span style=\"font-family:Times New Roman; font-style:italic;\">num</span>是一个正整数。对所获取的匹配的引用。例如，“<code>(.)\\1</code>”匹配两个连续的相同字符。</td>\n",
    "    </tr>\n",
    "    <tr>\n",
    "      <th style=\"text-align:center;\">\\<span style=\"font-family:Times New Roman; font-style:italic;\">n</span></th>\n",
    "      <td style=\"text-align:left;\">标识一个八进制转义值或一个向后引用。如果\\<span style=\"font-family:Times New Roman; font-style:italic;\">n</span>之前至少<span style=\"font-family:Times New Roman; font-style:italic;\">n</span>个获取的子表达式，则<span style=\"font-family:Times New Roman; font-style:italic;\">n</span>为向后引用。否则，如果<span style=\"font-family:Times New Roman; font-style:italic;\">n</span>为八进制数字（0-7），则<span style=\"font-family:Times New Roman; font-style:italic;\">n</span>为一个八进制转义值。</td>\n",
    "    </tr>\n",
    "    <tr>\n",
    "      <th style=\"text-align:center;\">\\<span style=\"font-family:Times New Roman; font-style:italic;\">nm</span></th>\n",
    "      <td style=\"text-align:left;\">标识一个八进制转义值或一个向后引用。如果\\<span style=\"font-family:Times New Roman; font-style:italic;\">nm</span>之前至少有<span style=\"font-family:Times New Roman; font-style:italic;\">nm</span>个获得子表达式，则<span style=\"font-family:Times New Roman; font-style:italic;\">nm</span>为向后引用。如果\\<span style=\"font-family:Times New Roman; font-style:italic;\">nm</span>之前至少有<span style=\"font-family:Times New Roman; font-style:italic;\">n</span>个获取，则<span style=\"font-family:Times New Roman; font-style:italic;\">n</span>为一个后跟文字<span style=\"font-family:Times New Roman; font-style:italic;\">m</span>的向后引用。如果前面的条件都不满足，若<span style=\"font-family:Times New Roman; font-style:italic;\">n</span>和<span style=\"font-family:Times New Roman; font-style:italic;\">m</span>均为八进制数字（0-7），则\\<span style=\"font-family:Times New Roman; font-style:italic;\">nm</span>将匹配八进制转义值<span style=\"font-family:Times New Roman; font-style:italic;\">nm</span>。</td>\n",
    "    </tr>\n",
    "    <tr>\n",
    "      <th style=\"text-align:center;\">\\<span style=\"font-family:Times New Roman; font-style:italic;\">nml</span></th>\n",
    "      <td style=\"text-align:left;\">如果<span style=\"font-family:Times New Roman; font-style:italic;\">n</span>为八进制数字（0-3），且<span style=\"font-family:Times New Roman; font-style:italic;\">m和l</span>均为八进制数字（0-7），则匹配八进制转义值<span style=\"font-family:Times New Roman; font-style:italic;\">nm</span>l。</td>\n",
    "    </tr>\n",
    "    <tr>\n",
    "      <th style=\"text-align:center;\">\\u<span style=\"font-family:Times New Roman; font-style:italic;\">n</span></th>\n",
    "      <td style=\"text-align:left;\">匹配<span style=\"font-family:Times New Roman; font-style:italic;\">n</span>，其中<span style=\"font-family:Times New Roman; font-style:italic;\">n</span>是一个用四个十六进制数字表示的Unicode字符。例如，\\u00A9匹配版权符号（©）。</td>\n",
    "    </tr>\n",
    "  </tbody>\n",
    "</table>"
   ]
  },
  {
   "cell_type": "markdown",
   "metadata": {},
   "source": [
    "#### 匹配电子邮件地址"
   ]
  },
  {
   "cell_type": "code",
   "execution_count": null,
   "metadata": {},
   "outputs": [],
   "source": [
    "patt = '\\w+@(\\w+\\.)?\\w+\\.com'\n",
    "m = re.match(patt, 'nobody@xxx.com')\n",
    "print(m.group()) if m is not None else print('None')"
   ]
  },
  {
   "cell_type": "markdown",
   "metadata": {},
   "source": [
    "##### 匹配QQ，非真实 QQ 请勿打扰"
   ]
  },
  {
   "cell_type": "code",
   "execution_count": null,
   "metadata": {},
   "outputs": [],
   "source": [
    "m = re.search('[1-9][0-9]{4,}', '这是我的QQ号781504542,第二个qq号：10054422288')\n",
    "print(m.group()) if m is not None else print('None')"
   ]
  },
  {
   "cell_type": "code",
   "execution_count": null,
   "metadata": {},
   "outputs": [],
   "source": [
    "# findall() 是search的升级版，可以找到所有匹配的字符串\n",
    "\n",
    "m = re.findall('[1-9][0-9]{4,}', '这是我的QQ号781504542,第二个qq号：10054422288')\n",
    "print(m) if m is not None else print('None')"
   ]
  },
  {
   "cell_type": "markdown",
   "metadata": {},
   "source": [
    "### 了解了怎么使用，那我们可以开始实现啦 ~"
   ]
  },
  {
   "cell_type": "markdown",
   "metadata": {},
   "source": [
    "#### 以下地方提供了一些思路，需要你手动实现你所需要的功能"
   ]
  },
  {
   "cell_type": "code",
   "execution_count": null,
   "metadata": {},
   "outputs": [],
   "source": [
    "# 获取URL数据（北京地铁数据）：http://map.amap.com/service/subway?_1469083453978&srhdata=1100_drw_beijing.json\n",
    "# 你需要用到以下的包\n",
    "\n",
    "import requests\n",
    "import re\n",
    "import numpy as np\n",
    "r = requests.get('http://map.amap.com/service/subway?_1469083453978&srhdata=1100_drw_beijing.json')\n",
    "r.text"
   ]
  },
  {
   "cell_type": "code",
   "execution_count": 3,
   "metadata": {},
   "outputs": [],
   "source": [
    "import re\n",
    "import json\n",
    "with open('subwaytext.txt', mode = 'r', encoding= 'utf-8') as f:\n",
    "    text = f.readlines()[0]"
   ]
  },
  {
   "cell_type": "code",
   "execution_count": 10,
   "metadata": {},
   "outputs": [
    {
     "name": "stdout",
     "output_type": "stream",
     "text": [
      "[('270 684', '金安桥', '', ''), ('226 684', '四道桥', '', ''), ('181 684', '桥户营', '', ''), ('155 711', '上岸', '', ''), ('155 735', '栗园庄', '', ''), ('131 758', '小园', '', ''), ('104 758', '石厂', '', ''), ('', '', 'S1线', '0'), ('312 684', '苹果园', '', ''), ('334 720', '古城', '', ''), ('391 720', '八角游乐园', '', ''), ('454 720', '八宝山', '', ''), ('505 720', '玉泉路', '', ''), ('555 720', '五棵松', '', ''), ('603 720', '万寿路', '', ''), ('650 720', '公主坟', '', ''), ('710 720', '军事博物馆', '', ''), ('769 720', '木樨地', '', ''), ('819 720', '南礼士路', '', ''), ('858 720', '复兴门', '', ''), ('928 720', '西单', '', ''), ('972 720', '天安门西', '', ''), ('1031 720', '天安门东', '', ''), ('1080 720', '王府井', '', ''), ('1116 720', '东单', '', ''), ('1179 720', '建国门', '', ''), ('1247 720', '永安里', '', ''), ('1279 720', '国贸', '', ''), ('1337 720', '大望路', '', ''), ('1374 720', '四惠', '', ''), ('1409 720', '四惠东', '', ''), ('', '', '1号线', '0'), ('905 555', '积水潭', '', ''), ('1002 555', '鼓楼大街', '', ''), ('1077 555', '安定门', '', ''), ('1116 555', '雍和宫', '', ''), ('1179 586', '东直门', '', ''), ('1179 628', '东四十条', '', ''), ('1179 659', '朝阳门', '', ''), ('1179 720', '建国门', '', ''), ('1171 759', '北京站', '', ''), ('1116 764', '崇文门', '', ''), ('1045 764', '前门', '', ''), ('999 764', '和平门', '', ''), ('928 764', '宣武门', '', ''), ('863 758', '长椿街', '', ''), ('858 720', '复兴门', '', ''), ('858 667', '阜成门', '', ''), ('858 625', '车公庄', '', ''), ('858 585', '西直门', '', ''), ('', '', '2号线', '1'), ('878 1353', '天宫院', '', ''), ('878 1319', '生物医药基地', '', ''), ('878 1283', '义和庄', '', ''), ('878 1251', '黄村火车站', '', ''), ('878 1216', '黄村西大街', '', ''), ('878 1183', '清源路', '', ''), ('878 1145', '枣园', '', ''), ('878 1113', '高米店南', '', ''), ('878 1066', '高米店北', '', ''), ('878 1028', '西红门', '', ''), ('902 1002', '新宫', '', ''), ('928 974', '公益西桥', '', ''), ('928 935', '角门西', '', ''), ('928 900', '马家堡', '', ''), ('928 864', '北京南站', '', ''), ('928 831', '陶然亭', '', ''), ('928 800', '菜市口', '', ''), ('928 764', '宣武门', '', ''), ('928 720', '西单', '', ''), ('928 690', '灵境胡同', '', ''), ('928 660', '西四', '', ''), ('928 625', '平安里', '', ''), ('926 589', '新街口', '', ''), ('858 585', '西直门', '', ''), ('812 585', '动物园', '', ''), ('710 582', '国家图书馆', '', ''), ('699 544', '魏公村', '', ''), ('699 498', '人民大学', '', ''), ('699 448', '海淀黄庄', '', ''), ('699 415', '中关村', '', ''), ('699 379', '北京大学东门', '', ''), ('699 342', '圆明园', '', ''), ('636 331', '西苑', '', ''), ('573 331', '北宫门', '', ''), ('507 331', '安河桥北', '', ''), ('', '', '4号线大兴线', '0'), ('1116 935', '宋家庄', '', ''), ('1116 895', '刘家窑', '', ''), ('1116 864', '蒲黄榆', '', ''), ('1116 831', '天坛东门', '', ''), ('1116 800', '磁器口', '', ''), ('1116 764', '崇文门', '', ''), ('1116 720', '东单', '', ''), ('1116 689', '灯市口', '', ''), ('1116 659', '东四', '', ''), ('1116 616', '张自忠路', '', ''), ('1116 585', '北新桥', '', ''), ('1116 555', '雍和宫', '', ''), ('1116 515', '和平里北街', '', ''), ('1116 487', '和平西桥', '', ''), ('1116 448', '惠新西街南口', '', ''), ('1116 417', '惠新西街北口', '', ''), ('1116 386', '大屯路东', '', ''), ('1116 340', '北苑路北', '', ''), ('1116 304', '立水桥南', '', ''), ('1116 267', '立水桥', '', ''), ('1116 223', '天通苑南', '', ''), ('1116 191', '天通苑', '', ''), ('1116 160', '天通苑北', '', ''), ('', '', '5号线', '0'), ('2000 772', '潞城', '', ''), ('1954 772', '东夏园', '', ''), ('1912 772', '郝家府', '', ''), ('1872 772', '北运河东', '', ''), ('1825 772', '北运河西', '', ''), ('1747 659', '通州北关', '', ''), ('1687 659', '物资学院路', '', ''), ('1629 659', '草房', '', ''), ('1580 659', '常营', '', ''), ('1529 659', '黄渠', '', ''), ('1478 659', '褡裢坡', '', ''), ('1429 659', '青年路', '', ''), ('1379 659', '十里堡', '', ''), ('1337 659', '金台路', '', ''), ('1279 659', '呼家楼', '', ''), ('1229 659', '东大桥', '', ''), ('1179 659', '朝阳门', '', ''), ('1116 659', '东四', '', ''), ('1015 625', '南锣鼓巷', '', ''), ('970 625', '北海北', '', ''), ('928 625', '平安里', '', ''), ('858 625', '车公庄', '', ''), ('783 625', '车公庄西', '', ''), ('710 625', '白石桥南', '', ''), ('635 625', '花园桥', '', ''), ('561 625', '慈寿寺', '', ''), ('487 625', '海淀五路居', '', ''), ('451 625', '田村', '', ''), ('416 625', '廖公庄', '', ''), ('379 625', '西黄村', '', ''), ('357 654', '杨庄', '', ''), ('270 684', '金安桥', '', ''), ('', '', '6号线', '0'), ('1820 1000', '花庄', '', ''), ('1768 976', '高楼金', '', ''), ('1730 976', '群芳', '', ''), ('1691 977', '万盛东', '', ''), ('1655 977', '万盛西', '', ''), ('1616 978', '黑庄户', '', ''), ('1579 979', '郎辛庄', '', ''), ('1542 979', '黄厂', '', ''), ('1508 979', '焦化厂', '', ''), ('1471 979', '双合', '', ''), ('1440 979', '垡头', '', ''), ('1407 919', '欢乐谷景区', '', ''), ('1408 880', '南楼梓庄', '', ''), ('1408 840', '化工', '', ''), ('1403 800', '百子湾', '', ''), ('1370 800', '大郊亭', '', ''), ('1337 800', '九龙山', '', ''), ('1279 800', '双井', '', ''), ('1243 800', '广渠门外', '', ''), ('1185 800', '广渠门内', '', ''), ('1116 800', '磁器口', '', ''), ('1079 800', '桥湾', '', ''), ('1027 800', '珠市口', '', ''), ('976 800', '虎坊桥', '', ''), ('928 800', '菜市口', '', ''), ('879 800', '广安门内', '', ''), ('829 800', '达官营', '', ''), ('764 800', '湾子', '', ''), ('710 756', '北京西站', '', ''), ('', '', '7号线', '0'), ('1029 663', '中国美术馆', '', ''), ('1015 625', '南锣鼓巷', '', ''), ('1002 590', '什刹海', '', ''), ('1002 555', '鼓楼大街', '', ''), ('1002 523', '安德里北街', '', ''), ('1001 497', '安华桥', '', ''), ('1001 449', '北土城', '', ''), ('1001 425', '奥体中心', '', ''), ('1002 384', '奥林匹克公园', '', ''), ('1003 356', '森林公园南门', '', ''), ('985 344', '林萃桥', '', ''), ('970 334', '永泰庄', '', ''), ('970 307', '西小口', '', ''), ('970 286', '育新', '', ''), ('970 267', '霍营', '', ''), ('970 227', '回龙观东大街', '', ''), ('929 202', '平西府', '', ''), ('898 202', '育知路', '', ''), ('843 202', '朱辛庄', '', ''), ('', '', '8号线', '0'), ('1027 800', '珠市口', '', ''), ('1027 831', '天桥', '', ''), ('1027 864', '永定门外', '', ''), ('1027 887', '木樨园', '', ''), ('1027 909', '海户屯', '', ''), ('1027 973', '大红门南', '', ''), ('1027 1002', '和义', '', ''), ('1045 1031', '东高地', '', ''), ('1068 1064', '火箭万源', '', ''), ('1090 1095', '五福堂', '', ''), ('1115 1131', '德茂', '', ''), ('1144 1171', '瀛海', '', ''), ('', '', '8号线南段', '0'), ('620 977', '郭公庄', '', ''), ('620 950', '丰台科技园', '', ''), ('620 924', '科怡路', '', ''), ('620 900', '丰台南路', '', ''), ('619 876', '丰台东大街', '', ''), ('619 852', '七里庄', '', ''), ('650 804', '六里桥', '', ''), ('675 784', '六里桥东', '', ''), ('710 756', '北京西站', '', ''), ('710 720', '军事博物馆', '', ''), ('710 670', '白堆子', '', ''), ('710 625', '白石桥南', '', ''), ('710 582', '国家图书馆', '', ''), ('', '', '9号线', '0'), ('602 448', '巴沟', '', ''), ('645 448', '苏州街', '', ''), ('699 448', '海淀黄庄', '', ''), ('794 448', '知春里', '', ''), ('843 448', '知春路', '', ''), ('879 448', '西土城', '', ''), ('922 448', '牡丹园', '', ''), ('969 448', '健德门', '', ''), ('1001 449', '北土城', '', ''), ('1085 448', '安贞门', '', ''), ('1116 448', '惠新西街南口', '', ''), ('1201 448', '芍药居', '', ''), ('1262 448', '太阳宫', '', ''), ('1279 495', '三元桥', '', ''), ('1279 534', '亮马桥', '', ''), ('1279 570', '农业展览馆', '', ''), ('1279 607', '团结湖', '', ''), ('1279 659', '呼家楼', '', ''), ('1279 690', '金台夕照', '', ''), ('1279 720', '国贸', '', ''), ('1279 800', '双井', '', ''), ('1279 817', '劲松', '', ''), ('1279 840', '潘家园', '', ''), ('1279 864', '十里河', '', ''), ('1227 935', '分钟寺', '', ''), ('1179 935', '成寿寺', '', ''), ('1116 935', '宋家庄', '', ''), ('1069 935', '石榴庄', '', ''), ('1021 935', '大红门', '', ''), ('974 935', '角门东', '', ''), ('928 935', '角门西', '', ''), ('869 935', '草桥', '', ''), ('812 935', '纪家庙', '', ''), ('753 935', '首经贸', '', ''), ('688 935', '丰台站', '', ''), ('650 892', '泥洼', '', ''), ('650 852', '西局', '', ''), ('650 804', '六里桥', '', ''), ('650 765', '莲花桥', '', ''), ('650 720', '公主坟', '', ''), ('605 672', '西钓鱼台', '', ''), ('561 625', '慈寿寺', '', ''), ('561 579', '车道沟', '', ''), ('561 534', '长春桥', '', ''), ('561 490', '火器营', '', ''), ('', '', '10号线', '1'), ('858 585', '西直门', '', ''), ('843 523', '大钟寺', '', ''), ('843 448', '知春路', '', ''), ('843 418', '五道口', '', ''), ('843 385', '上地', '', ''), ('843 327', '清河', '', ''), ('843 299', '西二旗', '', ''), ('883 267', '龙泽', '', ''), ('931 267', '回龙观', '', ''), ('970 267', '霍营', '', ''), ('1116 267', '立水桥', '', ''), ('1201 340', '北苑', '', ''), ('1201 386', '望京西', '', ''), ('1201 448', '芍药居', '', ''), ('1201 502', '光熙门', '', ''), ('1201 543', '柳芳', '', ''), ('1179 586', '东直门', '', ''), ('', '', '13号线', '0'), ('1258 293', '善各庄', '', ''), ('1258 323', '来广营', '', ''), ('1259 353', '东湖渠', '', ''), ('1259 386', '望京', '', ''), ('1265 425', '阜通', '', ''), ('1300 456', '望京南', '', ''), ('1337 522', '将台', '', ''), ('1337 554', '东风北桥', '', ''), ('1337 586', '枣营', '', ''), ('1337 622', '朝阳公园', '', ''), ('1337 659', '金台路', '', ''), ('1337 720', '大望路', '', ''), ('1337 800', '九龙山', '', ''), ('1337 829', '平乐园', '', ''), ('1337 846', '北工大西门', '', ''), ('1279 864', '十里河', '', ''), ('1201 864', '方庄', '', ''), ('1116 864', '蒲黄榆', '', ''), ('1079 864', '景泰', '', ''), ('1027 864', '永定门外', '', ''), ('928 864', '北京南站', '', ''), ('', '', '14号线东段', '0'), ('650 852', '西局', '', ''), ('619 852', '七里庄', '', ''), ('545 852', '大井', '', ''), ('497 852', '郭庄子', '', ''), ('453 852', '大瓦窑', '', ''), ('410 852', '园博园', '', ''), ('360 852', '张郭庄', '', ''), ('', '', '14号线西段', '0'), ('1469 143', '俸伯', '', ''), ('1434 143', '顺义', '', ''), ('1396 143', '石门', '', ''), ('1357 143', '南法信', '', ''), ('1344 177', '后沙峪', '', ''), ('1344 211', '花梨坎', '', ''), ('1344 246', '国展', '', ''), ('1344 279', '孙河', '', ''), ('1344 313', '马泉营', '', ''), ('1344 348', '崔各庄', '', ''), ('1336 381', '望京东', '', ''), ('1259 386', '望京', '', ''), ('1201 386', '望京西', '', ''), ('1160 386', '关庄', '', ''), ('1116 386', '大屯路东', '', ''), ('1065 385', '安立路', '', ''), ('1002 384', '奥林匹克公园', '', ''), ('976 384', '北沙滩', '', ''), ('923 384', '六道口', '', ''), ('883 383', '清华东路西口', '', ''), ('', '', '15号线', '0'), ('354 173', '北安河', '', ''), ('420 173', '温阳路', '', ''), ('481 173', '稻香湖路', '', ''), ('541 173', '屯佃', '', ''), ('606 173', '永丰', '', ''), ('635 208', '永丰南', '', ''), ('635 239', '西北旺', '', ''), ('636 269', '马连洼', '', ''), ('636 299', '农大南路', '', ''), ('636 331', '西苑', '', ''), ('', '', '16号线', '0'), ('1374 720', '四惠', '', ''), ('1409 720', '四惠东', '', ''), ('1463 728', '高碑店', '', ''), ('1522 728', '传媒大学', '', ''), ('1564 728', '双桥', '', ''), ('1603 728', '管庄', '', ''), ('1646 729', '八里桥', '', ''), ('1688 775', '通州北苑', '', ''), ('1711 809', '果园', '', ''), ('1732 840', '九棵树', '', ''), ('1753 871', '梨园', '', ''), ('1775 904', '临河里', '', ''), ('1798 937', '土桥', '', ''), ('1820 1000', '花庄', '', ''), ('', '', '八通线', '0'), ('520 0', '昌平西山口', '', ''), ('586 13', '十三陵景区', '', ''), ('654 48', '昌平', '', ''), ('733 48', '昌平东关', '', ''), ('818 48', '北邵洼', '', ''), ('843 82', '南邵', '', ''), ('843 113', '沙河高教园', '', ''), ('843 144', '沙河', '', ''), ('843 173', '巩华城', '', ''), ('843 202', '朱辛庄', '', ''), ('843 230', '生命科学园', '', ''), ('843 299', '西二旗', '', ''), ('', '', '昌平线', '0'), ('869 935', '草桥', '', ''), ('977 1229', '大兴新城', '', ''), ('977 1528', '大兴机场', '', ''), ('', '', '大兴国际机场线', '0'), ('327 1176', '阎村东', '', ''), ('367 1176', '苏庄', '', ''), ('402 1176', '良乡南关', '', ''), ('439 1176', '良乡大学城西', '', ''), ('473 1175', '良乡大学城', '', ''), ('511 1149', '良乡大学城北', '', ''), ('529 1120', '广阳城', '', ''), ('547 1090', '篱笆房', '', ''), ('566 1061', '长阳', '', ''), ('584 1032', '稻田', '', ''), ('602 1005', '大葆台', '', ''), ('620 977', '郭公庄', '', ''), ('', '', '房山线', '0'), ('1620 310', 'T3航站楼', '', ''), ('1571 307', 'T2航站楼', '', ''), ('1279 495', '三元桥', '', ''), ('1179 586', '东直门', '', ''), ('', '', '首都机场线', '0'), ('602 448', '巴沟', '', ''), ('479 413', '颐和园西门', '', ''), ('411 413', '茶棚', '', ''), ('354 400', '万安', '', ''), ('340 373', '植物园', '', ''), ('291 373', '香山', '', ''), ('', '', '西郊线', '0'), ('327 1176', '阎村东', '', ''), ('287 1176', '紫草坞', '', ''), ('247 1176', '阎村', '', ''), ('206 1176', '星城', '', ''), ('165 1176', '大石河东', '', ''), ('124 1176', '马各庄', '', ''), ('84 1176', '饶乐府', '', ''), ('43 1176', '房山城关', '', ''), ('0 1176', '燕山', '', ''), ('', '', '燕房线', '0'), ('1116 935', '宋家庄', '', ''), ('1116 969', '肖村', '', ''), ('1136 999', '小红门', '', ''), ('1152 1023', '旧宫', '', ''), ('1167 1046', '亦庄桥', '', ''), ('1185 1072', '亦庄文化园', '', ''), ('1201 1097', '万源街', '', ''), ('1219 1122', '荣京东街', '', ''), ('1234 1147', '荣昌东街', '', ''), ('1273 1174', '同济南路', '', ''), ('1327 1174', '经海路', '', ''), ('1380 1174', '次渠南', '', ''), ('1432 1174', '次渠', '', ''), ('1479 1174', '亦庄火车站', '', ''), ('', '', '亦庄线', '0')]\n"
     ]
    },
    {
     "ename": "KeyError",
     "evalue": "'金安桥'",
     "output_type": "error",
     "traceback": [
      "\u001b[1;31m---------------------------------------------------------------------------\u001b[0m",
      "\u001b[1;31mKeyError\u001b[0m                                  Traceback (most recent call last)",
      "\u001b[1;32m<ipython-input-10-783b1f9cac56>\u001b[0m in \u001b[0;36m<module>\u001b[1;34m()\u001b[0m\n\u001b[0;32m     24\u001b[0m     \u001b[1;32mreturn\u001b[0m \u001b[0mlines_info\u001b[0m\u001b[1;33m,\u001b[0m \u001b[0mstations_info\u001b[0m\u001b[1;33m\u001b[0m\u001b[0m\n\u001b[0;32m     25\u001b[0m \u001b[1;33m\u001b[0m\u001b[0m\n\u001b[1;32m---> 26\u001b[1;33m \u001b[0mlines_info\u001b[0m\u001b[1;33m,\u001b[0m \u001b[0mstations_info\u001b[0m \u001b[1;33m=\u001b[0m \u001b[0mget_lines_stations_info\u001b[0m\u001b[1;33m(\u001b[0m\u001b[0mtext\u001b[0m\u001b[1;33m)\u001b[0m\u001b[1;33m\u001b[0m\u001b[0m\n\u001b[0m\u001b[0;32m     27\u001b[0m \u001b[0mprint\u001b[0m\u001b[1;33m(\u001b[0m\u001b[0mlines_info\u001b[0m\u001b[1;33m)\u001b[0m\u001b[1;33m\u001b[0m\u001b[0m\n",
      "\u001b[1;32m<ipython-input-10-783b1f9cac56>\u001b[0m in \u001b[0;36mget_lines_stations_info\u001b[1;34m(text)\u001b[0m\n\u001b[0;32m     17\u001b[0m         \u001b[1;31m# 你可能需要思考的几个问题，获取「地铁线路名称，站点信息list，站名，坐标(x,y)，数据加入站点的信息dict，将数据加入地铁线路dict」\u001b[0m\u001b[1;33m\u001b[0m\u001b[1;33m\u001b[0m\u001b[0m\n\u001b[0;32m     18\u001b[0m         \u001b[1;32mif\u001b[0m \u001b[0mlines_list\u001b[0m\u001b[1;33m[\u001b[0m\u001b[0mi\u001b[0m\u001b[1;33m]\u001b[0m\u001b[1;33m[\u001b[0m\u001b[1;33m-\u001b[0m\u001b[1;36m1\u001b[0m\u001b[1;33m]\u001b[0m \u001b[1;33m==\u001b[0m \u001b[1;34m''\u001b[0m\u001b[1;33m:\u001b[0m\u001b[1;33m\u001b[0m\u001b[0m\n\u001b[1;32m---> 19\u001b[1;33m             \u001b[0mstations_info\u001b[0m\u001b[1;33m[\u001b[0m\u001b[0mlines_list\u001b[0m\u001b[1;33m[\u001b[0m\u001b[0mi\u001b[0m\u001b[1;33m]\u001b[0m\u001b[1;33m[\u001b[0m\u001b[1;36m1\u001b[0m\u001b[1;33m]\u001b[0m\u001b[1;33m]\u001b[0m \u001b[1;33m==\u001b[0m \u001b[0mtuple\u001b[0m\u001b[1;33m(\u001b[0m\u001b[0mmap\u001b[0m\u001b[1;33m(\u001b[0m\u001b[0mint\u001b[0m\u001b[1;33m,\u001b[0m\u001b[0mlines_list\u001b[0m\u001b[1;33m[\u001b[0m\u001b[0mi\u001b[0m\u001b[1;33m]\u001b[0m\u001b[1;33m[\u001b[0m\u001b[1;36m0\u001b[0m\u001b[1;33m]\u001b[0m\u001b[1;33m.\u001b[0m\u001b[0msplit\u001b[0m\u001b[1;33m(\u001b[0m\u001b[1;34m' '\u001b[0m\u001b[1;33m)\u001b[0m\u001b[1;33m)\u001b[0m\u001b[1;33m)\u001b[0m\u001b[1;33m\u001b[0m\u001b[0m\n\u001b[0m\u001b[0;32m     20\u001b[0m             \u001b[0mstations_list\u001b[0m\u001b[1;33m.\u001b[0m\u001b[0mappend\u001b[0m\u001b[1;33m(\u001b[0m\u001b[0mlines_list\u001b[0m\u001b[1;33m[\u001b[0m\u001b[0mi\u001b[0m\u001b[1;33m]\u001b[0m\u001b[1;33m[\u001b[0m\u001b[1;36m1\u001b[0m\u001b[1;33m]\u001b[0m\u001b[1;33m)\u001b[0m\u001b[1;33m\u001b[0m\u001b[0m\n\u001b[0;32m     21\u001b[0m         \u001b[1;32melse\u001b[0m\u001b[1;33m:\u001b[0m\u001b[1;33m\u001b[0m\u001b[0m\n",
      "\u001b[1;31mKeyError\u001b[0m: '金安桥'"
     ]
    }
   ],
   "source": [
    "def get_lines_stations_info(text):\n",
    "    # 请在这里写上你的代码\n",
    "    pattern = re.compile('(?:rs\\\":\\\"([\\d\\s]+).*?\\\"n\\\":\\\"(.*?)\\\")|(?:ln\\\":\\\"(.*?)\\\".*?lo\\\":\\\"(\\d?)\\\")')\n",
    "    lines_list = pattern.findall(str(text))\n",
    "    print(lines_list)\n",
    "\n",
    "    # 遍历text格式数据，组成地点数据结构\n",
    "    # 所有线路信息的dict：key：线路名称；value：站点名称list\n",
    "    lines_info = {}\n",
    "    \n",
    "    # 所有站点信息的dict：key：站点名称；value：站点坐标(x,y)\n",
    "    stations_info = {}\n",
    "    stations_list = []\n",
    "    \n",
    "    \n",
    "    for i in range(len(lines_list)):\n",
    "        # 你可能需要思考的几个问题，获取「地铁线路名称，站点信息list，站名，坐标(x,y)，数据加入站点的信息dict，将数据加入地铁线路dict」\n",
    "        if lines_list[i][-1] == '':\n",
    "            stations_info[lines_list[i][1]] == tuple(map(int,lines_list[i][0].split(' ')))\n",
    "            stations_list.append(lines_list[i][1])\n",
    "        else:\n",
    "            lines_info[lines_list[i][2] + lines_list[i][3]] = stations_list\n",
    "            stations_list = []\n",
    "    return lines_info, stations_info\n",
    "\n",
    "lines_info, stations_info = get_lines_stations_info(text)\n",
    "print(lines_info)"
   ]
  },
  {
   "cell_type": "code",
   "execution_count": null,
   "metadata": {},
   "outputs": [],
   "source": [
    "# 根据线路信息，建立站点邻接表dict\n",
    "def get_neighbor_info(lines_info):\n",
    "    pass\n",
    "\n",
    "    # 把str2加入str1站点的邻接表中\n",
    "    def add_neighbor_dict(info, str1, str2):\n",
    "        # 请在这里写代码\n",
    "        pass\n",
    "        \n",
    "    return neighbor_info\n",
    "        \n",
    "neighbor_info = get_neighbor_info(lines_info)\n",
    "neighbor_info"
   ]
  },
  {
   "cell_type": "code",
   "execution_count": null,
   "metadata": {},
   "outputs": [],
   "source": [
    "# 画地铁图\n",
    "import networkx as nx\n",
    "import matplotlib\n",
    "import matplotlib.pyplot as plt\n",
    "\n",
    "# 如果汉字无法显示，请参照\n",
    "matplotlib.rcParams['font.sans-serif'] = ['SimHei'] \n",
    "\n",
    "# matplotlib.rcParams['font.family']='sans-serif'\n"
   ]
  },
  {
   "cell_type": "code",
   "execution_count": null,
   "metadata": {},
   "outputs": [],
   "source": [
    "# 你可以用递归查找所有路径\n",
    "def get_path_DFS_ALL(lines_info, neighbor_info, from_station, to_station):\n",
    "    # 递归算法，本质上是深度优先\n",
    "    # 遍历所有路径\n",
    "    # 这种情况下，站点间的坐标距离难以转化为可靠的启发函数，所以只用简单的BFS算法\n",
    "    # 检查输入站点名称\n",
    "    pass\n",
    "\n",
    "def get_next_station_DFS_ALL(node, neighbor_info, to_station):\n",
    "    pass"
   ]
  },
  {
   "cell_type": "code",
   "execution_count": null,
   "metadata": {},
   "outputs": [],
   "source": [
    "#  你也可以使用第二种算法：没有启发函数的简单宽度优先\n",
    "\n",
    "def get_path_BFS(lines_info, neighbor_info, from_station, to_station):\n",
    "    # 搜索策略：以站点数量为cost（因为车票价格是按站算的）\n",
    "    # 这种情况下，站点间的坐标距离难以转化为可靠的启发函数，所以只用简单的BFS算法\n",
    "    # 由于每深一层就是cost加1，所以每层的cost都相同，算和不算没区别，所以省略\n",
    "    # 检查输入站点名称\n",
    "    pass\n"
   ]
  },
  {
   "cell_type": "code",
   "execution_count": null,
   "metadata": {},
   "outputs": [],
   "source": [
    "# 你还可以用第三种算法：以路径路程为cost的启发式搜索\n",
    "\n",
    "import pandas as pd\n",
    "def get_path_Astar(lines_info, neighbor_info, stations_info, from_station, to_station):\n",
    "    # 搜索策略：以路径的站点间直线距离累加为cost，以当前站点到目标的直线距离为启发函数\n",
    "    # 检查输入站点名称\n",
    "    pass"
   ]
  },
  {
   "cell_type": "markdown",
   "metadata": {},
   "source": [
    "## （Optional）Create different policies for transfer system."
   ]
  },
  {
   "cell_type": "markdown",
   "metadata": {},
   "source": [
    "以下部门为可选部分，请酌情完成。 并不要求全部同学完成。"
   ]
  },
  {
   "cell_type": "markdown",
   "metadata": {},
   "source": [
    "As much as you can to use the already implemented search agent. You just need to define the **is_goal()**, **get_successor()**, **strategy()** three functions. \n",
    "\n",
    "> a.\tDefine different policies for transfer system. \n",
    "\n",
    "> b.\tSuch as Shortest Path Priority（路程最短优先）, Minimum Transfer Priority(最少换乘优先), Comprehensive Priority(综合优先)\n",
    "\n",
    "> c.\tImplement Continuous transfer. Based on the Agent you implemented, please add this feature: Besides the @param start and @param destination two stations, add some more stations, we called @param by_way, it means, our path should from the start and end, but also include the  @param by_way stations. \n",
    "\n",
    "e.g \n",
    "```\n",
    "1. Input:  start=A,  destination=B, by_way=[C] \n",
    "    Output: [A, … .., C, …. B]\n",
    "2. Input: start=A, destination=B, by_way=[C, D, E]\n",
    "    Output: [A … C … E … D … B]  \n",
    "    # based on your policy, the E station could be reached firstly. \n",
    "```"
   ]
  },
  {
   "cell_type": "markdown",
   "metadata": {},
   "source": [
    "##### 5.\tTest your result with commercial applications. \n",
    "\n",
    "将你的结果和高德地图或者百度地图进行比较，如果有不同，请分析原因"
   ]
  },
  {
   "cell_type": "markdown",
   "metadata": {},
   "source": [
    "恭喜，完成本次课程，你对常用的人工智能方法以及有一定的了解了。基于规则的，基于概率模型的，基于搜索的，基于机器学习的。 可以说，我们现在通常见到的方法都能够归属到这几类方法中。 这就是**人工智能**，并没有很难是吧？ 继续加油！"
   ]
  },
  {
   "cell_type": "markdown",
   "metadata": {},
   "source": [
    "![](https://timgsa.baidu.com/timg?image&quality=80&size=b9999_10000&sec=1562415163815&di=4b29a2a863a8285212033760f288ed7a&imgtype=0&src=http%3A%2F%2F5b0988e595225.cdn.sohucs.com%2Fimages%2F20180710%2F8704194a1d7f46a383ddc29d40c9bca5.jpeg)"
   ]
  }
 ],
 "metadata": {
  "kernelspec": {
   "display_name": "Python 3",
   "language": "python",
   "name": "python3"
  },
  "language_info": {
   "codemirror_mode": {
    "name": "ipython",
    "version": 3
   },
   "file_extension": ".py",
   "mimetype": "text/x-python",
   "name": "python",
   "nbconvert_exporter": "python",
   "pygments_lexer": "ipython3",
   "version": "3.7.0"
  }
 },
 "nbformat": 4,
 "nbformat_minor": 4
}
